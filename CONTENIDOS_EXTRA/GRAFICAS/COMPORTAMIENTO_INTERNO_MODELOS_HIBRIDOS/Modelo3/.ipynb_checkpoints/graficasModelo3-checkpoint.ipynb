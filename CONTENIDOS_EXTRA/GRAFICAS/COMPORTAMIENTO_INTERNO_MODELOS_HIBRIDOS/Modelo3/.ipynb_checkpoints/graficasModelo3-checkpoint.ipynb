{
 "cells": [
  {
   "cell_type": "code",
   "execution_count": 4,
   "metadata": {},
   "outputs": [
    {
     "ename": "SyntaxError",
     "evalue": "invalid syntax (<ipython-input-4-01c0c75f5dcf>, line 10)",
     "output_type": "error",
     "traceback": [
      "\u001b[0;36m  File \u001b[0;32m\"<ipython-input-4-01c0c75f5dcf>\"\u001b[0;36m, line \u001b[0;32m10\u001b[0m\n\u001b[0;31m    iteraciones = i for i in iteracion if i!=iteracion)\u001b[0m\n\u001b[0m                      ^\u001b[0m\n\u001b[0;31mSyntaxError\u001b[0m\u001b[0;31m:\u001b[0m invalid syntax\n"
     ]
    }
   ],
   "source": [
    "import altair as alt\n",
    "import pandas as pd\n",
    "alt.renderers.enable('notebook')\n",
    "\n",
    "data = pd.read_csv('adaptacionProbabilidad.csv')\n",
    "\n",
    "\n",
    "\n",
    "iteracion = [i for i in data['Iteracion']]\n",
    "iteraciones = i for i in iteracion if i!=iteracion)\n",
    "\n",
    "print(iteracion)\n",
    "algorit = []\n",
    "for i,algoritmo in enumerate(algoritmos):\n",
    "    if algoritmo == 1:\n",
    "        algorit.append(\"alfa=0.1\")\n",
    "    if algoritmo == 2:\n",
    "        algorit.append(\"alfa=0.3\")\n",
    "    if algoritmo == 3:\n",
    "        algorit.append(\"alfa=0.5\")\n",
    "    if algoritmo == 4:\n",
    "        algorit.append(\"alfa=0.8\")\n",
    "print(algorit)\n",
    "\n",
    "funciones = [i for i in data['Función']]\n",
    "resultados = [i for i in data['Nveces']]\n",
    "print(resultados)\n",
    "    \n",
    "#resultados = [2000, 3000, 2000, 4000, 3000, 5000, 1000, 2000]\n",
    "#funciones = ['Q1', 'Q1', 'Q2', 'Q2', 'Q3', 'Q3', 'Q1', 'Q1']\n",
    "#algoritmos = ['N', 'C', 'N', 'C', 'N', 'C', 'N', 'C']\n",
    "\n",
    "#print(data)\n",
    "data = pd.DataFrame({'Resultados':resultados ,\n",
    " 'Función': funciones,\n",
    " 'Algoritmo': algorit})\n",
    "\n",
    "alt.Chart(data).mark_bar().encode(\n",
    "    color='Algoritmo:N',\n",
    "    column='Función:O',\n",
    "    y='Resultados:Q',\n",
    ")"
   ]
  },
  {
   "cell_type": "code",
   "execution_count": null,
   "metadata": {},
   "outputs": [],
   "source": []
  },
  {
   "cell_type": "code",
   "execution_count": null,
   "metadata": {},
   "outputs": [],
   "source": []
  }
 ],
 "metadata": {
  "kernelspec": {
   "display_name": "Python 3",
   "language": "python",
   "name": "python3"
  },
  "language_info": {
   "codemirror_mode": {
    "name": "ipython",
    "version": 3
   },
   "file_extension": ".py",
   "mimetype": "text/x-python",
   "name": "python",
   "nbconvert_exporter": "python",
   "pygments_lexer": "ipython3",
   "version": "3.6.4"
  }
 },
 "nbformat": 4,
 "nbformat_minor": 2
}
