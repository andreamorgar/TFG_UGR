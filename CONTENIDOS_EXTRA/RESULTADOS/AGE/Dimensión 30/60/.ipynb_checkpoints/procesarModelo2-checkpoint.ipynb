{
 "cells": [
  {
   "cell_type": "code",
   "execution_count": 1,
   "metadata": {},
   "outputs": [
    {
     "name": "stdout",
     "output_type": "stream",
     "text": [
      "[2.0000e+03 1.0000e+00 1.0122e+09]\n"
     ]
    }
   ],
   "source": [
    "import pandas as pd\n",
    "import matplotlib.pyplot as plt\n",
    "import numpy as np\n",
    "datos = pd.read_csv(\"modeloIslas.csv\")\n",
    "\n",
    "f = open(\"modeloIslasProcesado.csv\", 'w')\n",
    "\n",
    "best = 999999999999999999.9\n",
    "print(datos.values[0])\n",
    "\n",
    "for i, dato in enumerate(datos.values):\n",
    "    if dato[2] < best:\n",
    "        best = dato[2]\n",
    "                         \n",
    "    f.write(str(int(dato[0]))+\",\"+ str(int(dato[1])) + \",\" + \"%e\"%(best) + \"\\n\")\n",
    "\n",
    "f.close()\n",
    "    "
   ]
  },
  {
   "cell_type": "code",
   "execution_count": null,
   "metadata": {},
   "outputs": [],
   "source": []
  },
  {
   "cell_type": "code",
   "execution_count": null,
   "metadata": {},
   "outputs": [],
   "source": []
  }
 ],
 "metadata": {
  "kernelspec": {
   "display_name": "Python 3",
   "language": "python",
   "name": "python3"
  },
  "language_info": {
   "codemirror_mode": {
    "name": "ipython",
    "version": 3
   },
   "file_extension": ".py",
   "mimetype": "text/x-python",
   "name": "python",
   "nbconvert_exporter": "python",
   "pygments_lexer": "ipython3",
   "version": "3.6.4"
  }
 },
 "nbformat": 4,
 "nbformat_minor": 2
}
