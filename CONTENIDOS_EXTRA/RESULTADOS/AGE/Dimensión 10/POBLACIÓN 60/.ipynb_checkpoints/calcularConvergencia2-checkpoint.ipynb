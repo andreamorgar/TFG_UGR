{
 "cells": [
  {
   "cell_type": "code",
   "execution_count": 3,
   "metadata": {},
   "outputs": [],
   "source": [
    "    import pandas as pd\n",
    "    import matplotlib.pyplot as plt\n",
    "    import numpy as np\n",
    "    isla = pd.read_csv(\"convergenciaModelo2Version2Dimension10.csv\")"
   ]
  },
  {
   "cell_type": "code",
   "execution_count": null,
   "metadata": {},
   "outputs": [],
   "source": []
  },
  {
   "cell_type": "code",
   "execution_count": null,
   "metadata": {},
   "outputs": [],
   "source": []
  },
  {
   "cell_type": "code",
   "execution_count": null,
   "metadata": {},
   "outputs": [],
   "source": [
    "for funcion in range(1,31):\n",
    "    fitness = []\n",
    "    iteraciones = []\n",
    "    \n",
    "    fitnessDatos2 = []\n",
    "    iteracionesDatos2 = []\n",
    "    \n",
    "    fitnessDatos3 = []\n",
    "    iteracionesDatos3 = []\n",
    "    \n",
    "    fitnessDatos4 = []\n",
    "    iteracionesDatos4 = []\n",
    "    \n",
    "    fitnessIsla = []\n",
    "    iteracionesIsla = []\n",
    "    \n",
    "    for iteracion in range(1000,100000,1000):\n",
    "   \n",
    "            \n",
    "        #Procesamos todos los valores que cumplan con esas características\n",
    "        #para el modelo híbrido\n",
    "        fitness_medio = 0.0\n",
    "        n_veces = 0\n",
    "        for dato in isla.values:\n",
    "            if dato[0] == iteracion and dato[1] == funcion:\n",
    "                fitness_medio += dato[2]\n",
    "                n_veces += 1\n",
    "\n",
    "        if fitness_medio != 0:         \n",
    "            fitnessIsla.append(fitness_medio/n_veces)\n",
    "            iteracionesIsla.append(iteracion)  \n",
    "    #Aquí podemos hacer gráfica\n",
    "\n",
    "\n",
    "    plt.clf() #limpiamos por si acaso hubiera algo antes de comenzar a mostrar info\n",
    "    plt.grid(True) #activar cuadrícula\n",
    "\n",
    "\n",
    "    plt.plot(np.array(iteracionesIsla),np.array(fitnessIsla),label = \"Ejecución 2 Fases\") #pintar\n",
    "    plt.title(\"Convergencia Función \"+ str(funcion)) #ponemos titulo a la gráfica\n",
    "    plt.xlabel(\"Iteración\") #ponemos etiquetas de la X\n",
    "    plt.ylabel(\"Fitness\") #ponemos etiquetas de la Y\n",
    "    plt.legend(loc=\"upper right\") \n",
    "    plt.show() #mostramos todo\n",
    "    plt.close()\n",
    "\n",
    "                "
   ]
  },
  {
   "cell_type": "code",
   "execution_count": null,
   "metadata": {},
   "outputs": [],
   "source": []
  },
  {
   "cell_type": "code",
   "execution_count": null,
   "metadata": {},
   "outputs": [],
   "source": []
  },
  {
   "cell_type": "code",
   "execution_count": null,
   "metadata": {},
   "outputs": [],
   "source": []
  }
 ],
 "metadata": {
  "kernelspec": {
   "display_name": "Python 3",
   "language": "python",
   "name": "python3"
  },
  "language_info": {
   "codemirror_mode": {
    "name": "ipython",
    "version": 3
   },
   "file_extension": ".py",
   "mimetype": "text/x-python",
   "name": "python",
   "nbconvert_exporter": "python",
   "pygments_lexer": "ipython3",
   "version": "3.6.4"
  }
 },
 "nbformat": 4,
 "nbformat_minor": 2
}
